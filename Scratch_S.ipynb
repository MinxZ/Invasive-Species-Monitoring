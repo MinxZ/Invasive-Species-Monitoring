{
 "cells": [
  {
   "cell_type": "code",
   "execution_count": 1,
   "metadata": {},
   "outputs": [
    {
     "name": "stderr",
     "output_type": "stream",
     "text": [
      "Using TensorFlow backend.\n"
     ]
    },
    {
     "name": "stdout",
     "output_type": "stream",
     "text": [
      "Found 1600 images belonging to 2 classes.\n",
      "Found 695 images belonging to 2 classes.\n"
     ]
    }
   ],
   "source": [
    "from keras.preprocessing.image import ImageDataGenerator\n",
    "from keras.models import Sequential\n",
    "from keras.layers import Conv2D, MaxPooling2D, BatchNormalization\n",
    "from keras.layers import Activation, Dropout, Flatten, Dense\n",
    "from keras import backend as K\n",
    "from keras.optimizers import SGD\n",
    "from keras.callbacks import EarlyStopping\n",
    "\n",
    "\n",
    "\n",
    "# dimensions of our images.\n",
    "img_width, img_height = 224, 224\n",
    "\n",
    "train_data_dir = 'data/data/train'\n",
    "validation_data_dir = 'data/data/validation'\n",
    "nb_train_samples = 1600\n",
    "nb_validation_samples = 692\n",
    "epochs = 10\n",
    "batch_size = 16\n",
    "\n",
    "if K.image_data_format() == 'channels_first':\n",
    "    input_shape = (3, img_height, img_width)\n",
    "else:\n",
    "    input_shape = (img_height, img_width, 3)\n",
    "    \n",
    "# this is the augmentation configuration we will use for training\n",
    "train_datagen = ImageDataGenerator(\n",
    "    rescale=1. / 255,\n",
    "    shear_range=0.2,\n",
    "    zoom_range=0.2,\n",
    "    horizontal_flip=True)\n",
    "\n",
    "test_datagen = ImageDataGenerator(rescale=1. / 255)\n",
    "\n",
    "train_generator = train_datagen.flow_from_directory(\n",
    "    train_data_dir,\n",
    "    target_size=(img_height, img_width),\n",
    "    batch_size=batch_size,\n",
    "    class_mode='binary')\n",
    "\n",
    "validation_generator = test_datagen.flow_from_directory(\n",
    "    validation_data_dir,\n",
    "    target_size=(img_height, img_width),\n",
    "    batch_size=batch_size,\n",
    "    class_mode='binary')\n",
    "\n",
    "\n",
    "model = Sequential()\n",
    "model.add(Conv2D(32, (3, 3), input_shape=input_shape, name='conv_1'))\n",
    "#model.add(BatchNormalization())\n",
    "model.add(Activation('relu'))\n",
    "model.add(MaxPooling2D(pool_size=(2, 2)))\n",
    "\n",
    "model.add(Conv2D(32, (3, 3), name='conv_2'))\n",
    "#model.add(BatchNormalization())\n",
    "model.add(Activation('relu'))\n",
    "model.add(MaxPooling2D(pool_size=(2, 2)))\n",
    "\n",
    "model.add(Conv2D(64, (3, 3), name='conv_3'))\n",
    "#model.add(BatchNormalization())\n",
    "model.add(Activation('relu'))\n",
    "model.add(MaxPooling2D(pool_size=(2, 2)))\n",
    "\n",
    "model.add(Flatten())\n",
    "model.add(Dense(64, name='dense_1s'))\n",
    "model.add(Activation('relu'))\n",
    "model.add(Dropout(0.5))\n",
    "model.add(Dense(1, name='dense_2s'))\n",
    "model.add(Activation('sigmoid'))"
   ]
  },
  {
   "cell_type": "code",
   "execution_count": 2,
   "metadata": {
    "scrolled": true
   },
   "outputs": [
    {
     "name": "stdout",
     "output_type": "stream",
     "text": [
      "Epoch 1/1\n",
      "100/100 [==============================] - 238s - loss: 0.2746 - acc: 0.8806 - val_loss: 0.2789 - val_acc: 0.9055\n"
     ]
    }
   ],
   "source": [
    "#model.load_weights('weights_s.18-0.34.hdf5', by_name=True)\n",
    "model.load_weights('first_try_adam.h5')\n",
    "\n",
    "x = 1\n",
    "if x:\n",
    "    optimizer='adam'\n",
    "else:\n",
    "    optimizer=SGD(lr=0.0001, momentum=0.9, nesterov=True)\n",
    "\n",
    "model.compile(loss='binary_crossentropy',\n",
    "              optimizer=optimizer,\n",
    "              metrics=['accuracy'])\n",
    "\n",
    "\n",
    "epochs = 1\n",
    "\n",
    "import keras\n",
    "early_stopping = EarlyStopping(monitor='val_loss', patience=3, verbose=2, mode='auto')\n",
    "save_model = keras.callbacks.ModelCheckpoint('weights_s.{epoch:02d}-{val_loss:.2f}.hdf5', save_best_only=True)\n",
    "TensorBoard = keras.callbacks.TensorBoard(log_dir='./logs_s', batch_size=batch_size)\n",
    "\n",
    "history = model.fit_generator(\n",
    "    train_generator,\n",
    "    steps_per_epoch=nb_train_samples // batch_size,\n",
    "    epochs=epochs,\n",
    "    validation_data=validation_generator,\n",
    "    validation_steps=nb_validation_samples // batch_size,\n",
    "    verbose = 1,\n",
    "    callbacks=[save_model, TensorBoard])\n",
    "\n",
    "model.save_weights('first_try_adam_dd.h5','w')"
   ]
  },
  {
   "cell_type": "code",
   "execution_count": 9,
   "metadata": {
    "collapsed": true
   },
   "outputs": [],
   "source": [
    "model.save_weights('first_try_adam.h5','w')"
   ]
  },
  {
   "cell_type": "code",
   "execution_count": 7,
   "metadata": {},
   "outputs": [
    {
     "name": "stdout",
     "output_type": "stream",
     "text": [
      "Found 1531 images belonging to 1 classes.\n",
      "1531/1531 [==============================] - 104s   \n"
     ]
    }
   ],
   "source": [
    "model.load_weights('first_try_adam.h5')\n",
    "\n",
    "\n",
    "test_data_dir = 'data/test'\n",
    "test_generator = test_datagen.flow_from_directory(\n",
    "    test_data_dir,\n",
    "    target_size=(img_height, img_width),\n",
    "    batch_size=1,\n",
    "    class_mode=\"binary\",\n",
    "    shuffle = False)\n",
    "\n",
    "preds = model.predict_generator(test_generator, 1531,verbose = 1)\n",
    "preds_rounded = []\n",
    "\n",
    "for pred in preds:\n",
    "    if (pred > .5):\n",
    "        preds_rounded.append(\"1\")\n",
    "    else:\n",
    "        preds_rounded.append(\"0\")\n",
    "        \n",
    "preds_filenames = [int(x.replace(\"New Folder With Items/\", \"\").replace(\".jpg\", \"\")) for x in test_generator.filenames]   \n",
    "\n",
    "data = (list(zip(preds_filenames, preds_rounded)))\n",
    "\n",
    "import pandas as pd\n",
    "df_result = pd.DataFrame(data, columns=[\"name\", \"invasive\"])\n",
    "df_result = df_result.sort_values(\"name\")\n",
    "df_result.index = df_result[\"name\"]\n",
    "df_result = df_result.drop([\"name\"], axis=1)\n",
    "\n",
    "df_result.to_csv(\"submission_01.csv\", encoding=\"utf8\", index=True)\n"
   ]
  },
  {
   "cell_type": "code",
   "execution_count": 9,
   "metadata": {
    "scrolled": true
   },
   "outputs": [
    {
     "data": {
      "text/plain": [
       "array([[ 0.48470336],\n",
       "       [ 0.50816661],\n",
       "       [ 0.50916028],\n",
       "       ..., \n",
       "       [ 0.53109843],\n",
       "       [ 0.52650106],\n",
       "       [ 0.5087626 ]], dtype=float32)"
      ]
     },
     "execution_count": 9,
     "metadata": {},
     "output_type": "execute_result"
    }
   ],
   "source": [
    "preds"
   ]
  },
  {
   "cell_type": "code",
   "execution_count": 11,
   "metadata": {
    "scrolled": true
   },
   "outputs": [
    {
     "ename": "ModuleNotFoundError",
     "evalue": "No module named 'cv2'",
     "output_type": "error",
     "traceback": [
      "\u001b[0;31m---------------------------------------------------------------------------\u001b[0m",
      "\u001b[0;31mModuleNotFoundError\u001b[0m                       Traceback (most recent call last)",
      "\u001b[0;32m<ipython-input-11-72fbbcfe2587>\u001b[0m in \u001b[0;36m<module>\u001b[0;34m()\u001b[0m\n\u001b[0;32m----> 1\u001b[0;31m \u001b[0;32mimport\u001b[0m \u001b[0mcv2\u001b[0m\u001b[0;34m\u001b[0m\u001b[0m\n\u001b[0m",
      "\u001b[0;31mModuleNotFoundError\u001b[0m: No module named 'cv2'"
     ]
    }
   ],
   "source": [
    "import cv2"
   ]
  },
  {
   "cell_type": "code",
   "execution_count": null,
   "metadata": {
    "collapsed": true
   },
   "outputs": [],
   "source": []
  }
 ],
 "metadata": {
  "kernelspec": {
   "display_name": "Python 3",
   "language": "python",
   "name": "python3"
  },
  "language_info": {
   "codemirror_mode": {
    "name": "ipython",
    "version": 3
   },
   "file_extension": ".py",
   "mimetype": "text/x-python",
   "name": "python",
   "nbconvert_exporter": "python",
   "pygments_lexer": "ipython3",
   "version": "3.6.1"
  }
 },
 "nbformat": 4,
 "nbformat_minor": 2
}
